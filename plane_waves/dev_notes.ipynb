{
 "metadata": {
  "name": "",
  "signature": "sha256:79f52f644f1ffb9b194cb78587740a3ddb66a6ae39cb8fb07e4efe75592c9157"
 },
 "nbformat": 3,
 "nbformat_minor": 0,
 "worksheets": [
  {
   "cells": [
    {
     "cell_type": "markdown",
     "metadata": {},
     "source": [
      "#Table of Contents\n",
      "* [Objective: propagating plane wave visualization](#Objective:-propagating-plane-wave-visualization)\n",
      "* [How to get docstrings for a class definition](#How-to-get-docstrings-for-a-class-definition)\n",
      "* [Figure out what makeARGB is doing](#Figure-out-what-makeARGB-is-doing)\n",
      "* [Make a semi-transparent rectangle (image)](#Make-a-semi-transparent-rectangle-%28image%29)\n",
      "* [What is np.vstack.transpose() doing?](#What-is-np.vstack.transpose%28%29-doing?)\n",
      "* [Make vertical lines](#Make-vertical-lines)\n",
      "* [Simple coordinate transformation](#Simple-coordinate-transformation)\n"
     ]
    },
    {
     "cell_type": "code",
     "collapsed": false,
     "input": [
      "%%javascript\n",
      "IPython.load_extensions('calico-document-tools');"
     ],
     "language": "python",
     "metadata": {},
     "outputs": [
      {
       "javascript": [
        "IPython.load_extensions('calico-document-tools');"
       ],
       "metadata": {},
       "output_type": "display_data",
       "text": [
        "<IPython.core.display.Javascript at 0x1058d0a90>"
       ]
      }
     ],
     "prompt_number": 1
    },
    {
     "cell_type": "code",
     "collapsed": false,
     "input": [
      "!date"
     ],
     "language": "python",
     "metadata": {},
     "outputs": [
      {
       "output_type": "stream",
       "stream": "stdout",
       "text": [
        "Fri Feb 27 21:03:52 MST 2015\r\n"
       ]
      }
     ],
     "prompt_number": 1
    },
    {
     "cell_type": "code",
     "collapsed": false,
     "input": [
      "from pyqtgraph.Qt import QtCore, QtGui\n",
      "import pyqtgraph.opengl as gl\n",
      "import pyqtgraph as pg\n",
      "import numpy as np"
     ],
     "language": "python",
     "metadata": {},
     "outputs": [
      {
       "output_type": "stream",
       "stream": "stderr",
       "text": [
        "Vendor:  Continuum Analytics, Inc.\n",
        "Package: mkl\n",
        "Message: trial mode expires in 30 days\n"
       ]
      }
     ],
     "prompt_number": 2
    },
    {
     "cell_type": "heading",
     "level": 1,
     "metadata": {},
     "source": [
      "Objective: propagating plane wave visualization"
     ]
    },
    {
     "cell_type": "markdown",
     "metadata": {},
     "source": [
      "**To do**\n",
      "- DONE 2/27/15 - Propagating e-field\n",
      "  - TRIED 2/27/15, ARROWS DON'T SEEM TO WORK IN 3D, JUST 2D. include some propagating arrows\n",
      "- DONE 2/27/15 - propagating h-field\n",
      "- TRIED 2/27/15, DOESN'T LOOK GOOD - semi-transparent plane in x-y through which plane wave propagates\n",
      "- DONE 2/27/15 - Add more visible axes\n",
      "- DONE 2/27/15 - What is np.vstack doing?\n",
      "- TRIED 2/25/15, NO FACILITY TO DO THIS - Fill to zero?\n",
      "- DONE 2/28/15 - If not, make my own vertical lines to zero?\n",
      "- TRIED 2/28/15, NO DOCUMENTATION INDICATING HOW TO DO THIS - Add labels (E, H, z)\n",
      "- Add ability to change propagation velocity\n",
      "- Change efield function to set arbitrary polarization state"
     ]
    },
    {
     "cell_type": "heading",
     "level": 1,
     "metadata": {},
     "source": [
      "How to get docstrings for a class definition"
     ]
    },
    {
     "cell_type": "code",
     "collapsed": false,
     "input": [
      "help(pg.opengl.GLLinePlotItem)\n",
      "help(pg.opengl.GLGridItem)\n",
      "help(pg.QtGui.QGraphicsRectItem)"
     ],
     "language": "python",
     "metadata": {},
     "outputs": []
    },
    {
     "cell_type": "heading",
     "level": 1,
     "metadata": {},
     "source": [
      "Figure out what makeARGB is doing"
     ]
    },
    {
     "cell_type": "code",
     "collapsed": false,
     "input": [
      "image_shape = (4,4)\n",
      "uniform_values = np.ones(image_shape) * 255\n",
      "uniform_image = pg.makeARGB(uniform_values)\n",
      "print uniform_values\n",
      "print uniform_image"
     ],
     "language": "python",
     "metadata": {},
     "outputs": [
      {
       "output_type": "stream",
       "stream": "stdout",
       "text": [
        "[[ 255.  255.  255.  255.]\n",
        " [ 255.  255.  255.  255.]\n",
        " [ 255.  255.  255.  255.]\n",
        " [ 255.  255.  255.  255.]]\n",
        "(array([[[255, 255, 255, 255],\n",
        "        [255, 255, 255, 255],\n",
        "        [255, 255, 255, 255],\n",
        "        [255, 255, 255, 255]],\n",
        "\n",
        "       [[255, 255, 255, 255],\n",
        "        [255, 255, 255, 255],\n",
        "        [255, 255, 255, 255],\n",
        "        [255, 255, 255, 255]],\n",
        "\n",
        "       [[255, 255, 255, 255],\n",
        "        [255, 255, 255, 255],\n",
        "        [255, 255, 255, 255],\n",
        "        [255, 255, 255, 255]],\n",
        "\n",
        "       [[255, 255, 255, 255],\n",
        "        [255, 255, 255, 255],\n",
        "        [255, 255, 255, 255],\n",
        "        [255, 255, 255, 255]]], dtype=uint8), False)\n"
       ]
      }
     ],
     "prompt_number": 13
    },
    {
     "cell_type": "code",
     "collapsed": false,
     "input": [
      "from pyqtgraph.Qt import QtCore, QtGui\n",
      "import pyqtgraph.opengl as gl\n",
      "import pyqtgraph as pg\n",
      "import numpy as np\n",
      "\n",
      "app = QtGui.QApplication([])\n",
      "w = gl.GLViewWidget()\n",
      "w.opts['distance'] = 200\n",
      "w.show()\n",
      "w.setWindowTitle('pyqtgraph example: GLImageItem')\n",
      "\n",
      "## create volume data set to slice three images from\n",
      "shape = (100,100,70)\n",
      "data = np.random.normal(size=shape)\n",
      "#data += pg.gaussianFilter(np.random.normal(size=shape), (15,15,15))*15\n",
      "\n",
      "## slice out three planes, convert to RGBA for OpenGL texture\n",
      "levels = (-0.08, 0.08)\n",
      "tex1 = pg.makeRGBA(data[shape[0]/2], levels=levels)[0]       # yz plane\n",
      "tex2 = pg.makeRGBA(data[:,shape[1]/2], levels=levels)[0]     # xz plane\n",
      "tex3 = pg.makeRGBA(data[:,:,shape[2]/2], levels=levels)[0]   # xy plane\n",
      "#tex1[:,:,3] = 128\n",
      "tex2[:,:,3] = 128\n",
      "#tex3[:,:,3] = 128\n",
      "\n",
      "## Create three image items from textures, add to view\n",
      "v1 = gl.GLImageItem(tex1)\n",
      "v1.translate(-shape[1]/2, -shape[2]/2, 0)\n",
      "v1.rotate(90, 0,0,1)\n",
      "v1.rotate(-90, 0,1,0)\n",
      "#w.addItem(v1)\n",
      "v2 = gl.GLImageItem(tex1)\n",
      "v2.translate(-shape[0]/2, -shape[2]/2, 0)\n",
      "v2.rotate(-90, 1,0,0)\n",
      "w.addItem(v2)\n",
      "v3 = gl.GLImageItem(tex3)\n",
      "v3.translate(-shape[0]/2, -shape[1]/2, 0)\n",
      "#w.addItem(v3)\n",
      "\n",
      "ax = gl.GLAxisItem()\n",
      "w.addItem(ax)\n",
      "\n",
      "## Start Qt event loop unless running in interactive mode.\n",
      "if __name__ == '__main__':\n",
      "    import sys\n",
      "    if (sys.flags.interactive != 1) or not hasattr(QtCore, 'PYQT_VERSION'):\n",
      "        QtGui.QApplication.instance().exec_()\n"
     ],
     "language": "python",
     "metadata": {},
     "outputs": [
      {
       "output_type": "stream",
       "stream": "stderr",
       "text": [
        "Vendor:  Continuum Analytics, Inc.\n",
        "Package: mkl\n",
        "Message: trial mode expires in 29 days\n"
       ]
      }
     ],
     "prompt_number": 1
    },
    {
     "cell_type": "code",
     "collapsed": false,
     "input": [
      "print shape[0], shape[1], shape[2]"
     ],
     "language": "python",
     "metadata": {},
     "outputs": [
      {
       "output_type": "stream",
       "stream": "stdout",
       "text": [
        "100 100 70\n"
       ]
      }
     ],
     "prompt_number": 4
    },
    {
     "cell_type": "code",
     "collapsed": false,
     "input": [
      "print len(data[shape[0]/2]), len(data[:,shape[1]/2])"
     ],
     "language": "python",
     "metadata": {},
     "outputs": [
      {
       "output_type": "stream",
       "stream": "stdout",
       "text": [
        "100 100\n"
       ]
      }
     ],
     "prompt_number": 10
    },
    {
     "cell_type": "code",
     "collapsed": false,
     "input": [
      "shape = (5,4,3)\n",
      "data = np.random.normal(size=shape)\n",
      "print data"
     ],
     "language": "python",
     "metadata": {},
     "outputs": [
      {
       "output_type": "stream",
       "stream": "stdout",
       "text": [
        "[[[ 0.45984547  1.36035537  0.17877769]\n",
        "  [-0.74233363 -1.4027535  -0.31127744]\n",
        "  [ 0.15139385 -1.53737929 -0.44762799]\n",
        "  [-0.07928505 -0.55425195 -0.4397145 ]]\n",
        "\n",
        " [[-1.18939939  2.14264077 -0.24350655]\n",
        "  [ 1.74703657  0.02382973 -1.21494055]\n",
        "  [-1.05530072 -0.61658412  0.11202   ]\n",
        "  [-1.64019854  0.90568988  2.00091668]]\n",
        "\n",
        " [[ 0.68254619 -0.26610311 -1.7318612 ]\n",
        "  [ 0.802056   -0.65997896  1.60191216]\n",
        "  [-0.45561828  0.75331113  1.04526321]\n",
        "  [-0.26396584 -0.83466144 -0.09280454]]\n",
        "\n",
        " [[-0.52378385 -0.67985562  0.51557659]\n",
        "  [ 0.19575697  0.47967583  1.60270125]\n",
        "  [-0.83338379 -0.35544256  0.30715218]\n",
        "  [-0.70449796 -0.11221931  0.41522148]]\n",
        "\n",
        " [[ 0.0137461   0.39272416 -0.17842813]\n",
        "  [-0.04211752  2.73380214  1.19733147]\n",
        "  [-1.95301056 -1.76086652  0.62690548]\n",
        "  [ 0.81274395  0.63919669 -1.07803292]]]\n"
       ]
      }
     ],
     "prompt_number": 11
    },
    {
     "cell_type": "code",
     "collapsed": false,
     "input": [
      "print data[shape[0]/2]"
     ],
     "language": "python",
     "metadata": {},
     "outputs": [
      {
       "output_type": "stream",
       "stream": "stdout",
       "text": [
        "[[ 0.68254619 -0.26610311 -1.7318612 ]\n",
        " [ 0.802056   -0.65997896  1.60191216]\n",
        " [-0.45561828  0.75331113  1.04526321]\n",
        " [-0.26396584 -0.83466144 -0.09280454]]\n"
       ]
      }
     ],
     "prompt_number": 12
    },
    {
     "cell_type": "code",
     "collapsed": false,
     "input": [
      "print data[:,shape[1]/2]"
     ],
     "language": "python",
     "metadata": {},
     "outputs": [
      {
       "output_type": "stream",
       "stream": "stdout",
       "text": [
        "[[ 0.15139385 -1.53737929 -0.44762799]\n",
        " [-1.05530072 -0.61658412  0.11202   ]\n",
        " [-0.45561828  0.75331113  1.04526321]\n",
        " [-0.83338379 -0.35544256  0.30715218]\n",
        " [-1.95301056 -1.76086652  0.62690548]]\n"
       ]
      }
     ],
     "prompt_number": 13
    },
    {
     "cell_type": "code",
     "collapsed": false,
     "input": [
      "print data[:,:,shape[2]/2]"
     ],
     "language": "python",
     "metadata": {},
     "outputs": [
      {
       "output_type": "stream",
       "stream": "stdout",
       "text": [
        "[[ 1.36035537 -1.4027535  -1.53737929 -0.55425195]\n",
        " [ 2.14264077  0.02382973 -0.61658412  0.90568988]\n",
        " [-0.26610311 -0.65997896  0.75331113 -0.83466144]\n",
        " [-0.67985562  0.47967583 -0.35544256 -0.11221931]\n",
        " [ 0.39272416  2.73380214 -1.76086652  0.63919669]]\n"
       ]
      }
     ],
     "prompt_number": 14
    },
    {
     "cell_type": "code",
     "collapsed": false,
     "input": [
      "tex = pg.makeRGBA(data[shape[2]/2])[0]\n",
      "print tex"
     ],
     "language": "python",
     "metadata": {},
     "outputs": [
      {
       "output_type": "stream",
       "stream": "stdout",
       "text": [
        "[[[  0   0   0 255]\n",
        "  [  2   2   2 255]\n",
        "  [  0   0   0 255]]\n",
        "\n",
        " [[  1   1   1 255]\n",
        "  [  0   0   0 255]\n",
        "  [  0   0   0 255]]\n",
        "\n",
        " [[  0   0   0 255]\n",
        "  [  0   0   0 255]\n",
        "  [  0   0   0 255]]\n",
        "\n",
        " [[  0   0   0 255]\n",
        "  [  0   0   0 255]\n",
        "  [  2   2   2 255]]]\n"
       ]
      }
     ],
     "prompt_number": 20
    },
    {
     "cell_type": "code",
     "collapsed": false,
     "input": [
      "image_shape = (3,5)\n",
      "uniform_values = np.ones(image_shape) * 255\n",
      "uniform_image = pg.makeARGB(uniform_values)[0]\n",
      "uniform_image[:,:,3] = 128\n",
      "print uniform_image"
     ],
     "language": "python",
     "metadata": {},
     "outputs": [
      {
       "output_type": "stream",
       "stream": "stdout",
       "text": [
        "[[[255 255 255 128]\n",
        "  [255 255 255 128]\n",
        "  [255 255 255 128]\n",
        "  [255 255 255 128]\n",
        "  [255 255 255 128]]\n",
        "\n",
        " [[255 255 255 128]\n",
        "  [255 255 255 128]\n",
        "  [255 255 255 128]\n",
        "  [255 255 255 128]\n",
        "  [255 255 255 128]]\n",
        "\n",
        " [[255 255 255 128]\n",
        "  [255 255 255 128]\n",
        "  [255 255 255 128]\n",
        "  [255 255 255 128]\n",
        "  [255 255 255 128]]]\n"
       ]
      }
     ],
     "prompt_number": 4
    },
    {
     "cell_type": "heading",
     "level": 1,
     "metadata": {},
     "source": [
      "Make a semi-transparent rectangle (image)"
     ]
    },
    {
     "cell_type": "code",
     "collapsed": false,
     "input": [
      "from pyqtgraph.Qt import QtCore, QtGui\n",
      "import pyqtgraph.opengl as gl\n",
      "import pyqtgraph as pg\n",
      "import numpy as np\n",
      "\n",
      "app = QtGui.QApplication([])\n",
      "w = gl.GLViewWidget()\n",
      "w.opts['distance'] = 20\n",
      "w.show()\n",
      "w.setWindowTitle('pyqtgraph example: GLImageItem')\n",
      "\n",
      "## create volume data set to slice three images from\n",
      "shape = (100,100,70)\n",
      "data = np.random.normal(size=shape)\n",
      "#data += pg.gaussianFilter(np.random.normal(size=shape), (15,15,15))*15\n",
      "\n",
      "## make images\n",
      "image_shape = (6,6)\n",
      "uniform_values = np.ones(image_shape) * 255\n",
      "uniform_image = pg.makeARGB(uniform_values)[0]\n",
      "uniform_image[:,:,1] = 128\n",
      "uniform_image_transparent = pg.makeARGB(uniform_values)[0]\n",
      "uniform_image_transparent[:,:,3] = 128\n",
      "\n",
      "## Create image items from textures, add to view\n",
      "v2 = gl.GLImageItem(uniform_image)\n",
      "v2.translate(-image_shape[0]/2, -image_shape[1]/2, 0)\n",
      "v2.rotate(90, 1,0,0)\n",
      "v2.translate(0, -2, 0)\n",
      "w.addItem(v2)\n",
      "v1 = gl.GLImageItem(uniform_image_transparent)\n",
      "v1.translate(-image_shape[0]/2, -image_shape[1]/2, 0)\n",
      "v1.rotate(90, 1,0,0)\n",
      "w.addItem(v1)\n",
      "\n",
      "ax = gl.GLAxisItem()\n",
      "w.addItem(ax)\n",
      "\n",
      "## Start Qt event loop unless running in interactive mode.\n",
      "if __name__ == '__main__':\n",
      "    import sys\n",
      "    if (sys.flags.interactive != 1) or not hasattr(QtCore, 'PYQT_VERSION'):\n",
      "        QtGui.QApplication.instance().exec_()\n"
     ],
     "language": "python",
     "metadata": {},
     "outputs": [
      {
       "output_type": "stream",
       "stream": "stderr",
       "text": [
        "Vendor:  Continuum Analytics, Inc.\n",
        "Package: mkl\n",
        "Message: trial mode expires in 30 days\n"
       ]
      }
     ],
     "prompt_number": 1
    },
    {
     "cell_type": "heading",
     "level": 1,
     "metadata": {},
     "source": [
      "What is np.vstack.transpose() doing?"
     ]
    },
    {
     "cell_type": "code",
     "collapsed": false,
     "input": [
      "x = np.linspace(0,2,3)\n",
      "y = np.linspace(10,12,3)\n",
      "z = np.linspace(20,22,3)\n",
      "print x, '\\n', y, '\\n', z, '\\n'\n",
      "pts = np.vstack([x,y,z])\n",
      "print pts, '\\n'\n",
      "pts = pts.transpose()\n",
      "print pts"
     ],
     "language": "python",
     "metadata": {},
     "outputs": [
      {
       "output_type": "stream",
       "stream": "stdout",
       "text": [
        "[ 0.  1.  2.] \n",
        "[ 10.  11.  12.] \n",
        "[ 20.  21.  22.] \n",
        "\n",
        "[[  0.   1.   2.]\n",
        " [ 10.  11.  12.]\n",
        " [ 20.  21.  22.]] \n",
        "\n",
        "[[  0.  10.  20.]\n",
        " [  1.  11.  21.]\n",
        " [  2.  12.  22.]]\n"
       ]
      }
     ],
     "prompt_number": 6
    },
    {
     "cell_type": "markdown",
     "metadata": {},
     "source": [
      "**Answer**: take row vectors x, y, & z and concatenate them as column vectors in a 2D matrix "
     ]
    },
    {
     "cell_type": "heading",
     "level": 1,
     "metadata": {},
     "source": [
      "Make vertical lines"
     ]
    },
    {
     "cell_type": "code",
     "collapsed": false,
     "input": [
      "x = np.linspace(0,3,4)\n",
      "y = np.linspace(10,13,4)\n",
      "z = np.linspace(20,23,4)\n",
      "#print x, '\\n', y, '\\n', z, '\\n'\n",
      "pts = np.vstack([x,y,z])\n",
      "#print pts, '\\n'\n",
      "pts = pts.transpose()\n",
      "print pts\n",
      "print pts.shape"
     ],
     "language": "python",
     "metadata": {},
     "outputs": [
      {
       "output_type": "stream",
       "stream": "stdout",
       "text": [
        "[[  0.  10.  20.]\n",
        " [  1.  11.  21.]\n",
        " [  2.  12.  22.]\n",
        " [  3.  13.  23.]]\n",
        "(4, 3)\n"
       ]
      }
     ],
     "prompt_number": 8
    },
    {
     "cell_type": "code",
     "collapsed": false,
     "input": [
      "pts2 = np.zeros(shape=(2*pts.shape[0], pts.shape[1]))\n",
      "print pts2\n",
      "print pts2.shape\n",
      "for i in range(pts.shape[0]):\n",
      "    pts2[2*i,2] = pts[i,2]\n",
      "    pts2[2*i + 1,:] = pts[i,:]\n",
      "print pts2"
     ],
     "language": "python",
     "metadata": {},
     "outputs": [
      {
       "output_type": "stream",
       "stream": "stdout",
       "text": [
        "[[ 0.  0.  0.]\n",
        " [ 0.  0.  0.]\n",
        " [ 0.  0.  0.]\n",
        " [ 0.  0.  0.]\n",
        " [ 0.  0.  0.]\n",
        " [ 0.  0.  0.]\n",
        " [ 0.  0.  0.]\n",
        " [ 0.  0.  0.]]\n",
        "(8, 3)\n",
        "[[  0.   0.  20.]\n",
        " [  0.  10.  20.]\n",
        " [  0.   0.  21.]\n",
        " [  1.  11.  21.]\n",
        " [  0.   0.  22.]\n",
        " [  2.  12.  22.]\n",
        " [  0.   0.  23.]\n",
        " [  3.  13.  23.]]\n"
       ]
      }
     ],
     "prompt_number": 15
    },
    {
     "cell_type": "code",
     "collapsed": false,
     "input": [
      "# Function to create new array from old\n",
      "# where new array is formatted to prepare to\n",
      "# draw lines perpendicular from z-axis to \n",
      "# curve defined by input array\n",
      "def preptomakelines(pts):\n",
      "    pts2 = np.zeros(shape=(2*pts.shape[0], pts.shape[1]))\n",
      "    for i in range(pts.shape[0]):\n",
      "        pts2[2*i,2] = pts[i,2]\n",
      "        pts2[2*i + 1,:] = pts[i,:]\n",
      "    return pts2\n",
      "\n",
      "pts2 = preptomakelines(pts)\n",
      "print pts, '\\n\\n', pts2"
     ],
     "language": "python",
     "metadata": {},
     "outputs": [
      {
       "output_type": "stream",
       "stream": "stdout",
       "text": [
        "[[  0.  10.  20.]\n",
        " [  1.  11.  21.]\n",
        " [  2.  12.  22.]\n",
        " [  3.  13.  23.]] \n",
        "\n",
        "[[  0.   0.  20.]\n",
        " [  0.  10.  20.]\n",
        " [  0.   0.  21.]\n",
        " [  1.  11.  21.]\n",
        " [  0.   0.  22.]\n",
        " [  2.  12.  22.]\n",
        " [  0.   0.  23.]\n",
        " [  3.  13.  23.]]\n"
       ]
      }
     ],
     "prompt_number": 18
    },
    {
     "cell_type": "heading",
     "level": 1,
     "metadata": {},
     "source": [
      "Simple coordinate transformation"
     ]
    },
    {
     "cell_type": "markdown",
     "metadata": {},
     "source": [
      "We want to go from calculation coordinates (x,y,z) to pyqtgraph coordinates (xx,yy,zz). For the electric field the transformation is:\n",
      "\n",
      "- x -> zz\n",
      "- y -> xx\n",
      "- z -> yy\n",
      "\n",
      "This is the same as rotate -90 degrees about the y axis, then rotate 90 degrees about the z-axis. For the magnetic field the transformation is:\n",
      "\n",
      "- x -> xx\n",
      "- y -> zz\n",
      "- z -> yy"
     ]
    },
    {
     "cell_type": "code",
     "collapsed": false,
     "input": [
      "x = np.linspace(0,3,4)\n",
      "y = np.linspace(10,13,4)\n",
      "z = np.linspace(20,23,4)\n",
      "pts = np.vstack([x,y,z])\n",
      "pts = pts.transpose()\n",
      "print pts\n",
      "temp2Darray = [[0, 0, 1],\n",
      "               [1, 0, 0],\n",
      "               [0, 1, 0]]\n",
      "rot_efield_coord = np.array(temp2Darray)\n",
      "print rot_efield_coord\n",
      "pts_efield_coord = np.dot(pts, rot_efield_coord)\n",
      "print pts_efield_coord\n",
      "temp2Darray = [[1, 0, 0],\n",
      "               [0, 0, 1],\n",
      "               [0, 1, 0]]\n",
      "rot_hfield_coord = np.array(temp2Darray)\n",
      "print rot_hfield_coord\n",
      "pts_hfield_coord = np.dot(pts, rot_hfield_coord)\n",
      "print pts_hfield_coord"
     ],
     "language": "python",
     "metadata": {},
     "outputs": [
      {
       "output_type": "stream",
       "stream": "stdout",
       "text": [
        "[[  0.  10.  20.]\n",
        " [  1.  11.  21.]\n",
        " [  2.  12.  22.]\n",
        " [  3.  13.  23.]]\n",
        "[[0 0 1]\n",
        " [1 0 0]\n",
        " [0 1 0]]\n",
        "[[ 10.  20.   0.]\n",
        " [ 11.  21.   1.]\n",
        " [ 12.  22.   2.]\n",
        " [ 13.  23.   3.]]\n",
        "[[1 0 0]\n",
        " [0 0 1]\n",
        " [0 1 0]]\n",
        "[[  0.  20.  10.]\n",
        " [  1.  21.  11.]\n",
        " [  2.  22.  12.]\n",
        " [  3.  23.  13.]]\n"
       ]
      }
     ],
     "prompt_number": 25
    },
    {
     "cell_type": "code",
     "collapsed": false,
     "input": [
      "print pts\n",
      "pts = np.dot(pts, rot_efield_coord)\n",
      "print pts"
     ],
     "language": "python",
     "metadata": {},
     "outputs": [
      {
       "output_type": "stream",
       "stream": "stdout",
       "text": [
        "[[  0.  10.  20.]\n",
        " [  1.  11.  21.]\n",
        " [  2.  12.  22.]\n",
        " [  3.  13.  23.]]\n",
        "[[ 10.  20.   0.]\n",
        " [ 11.  21.   1.]\n",
        " [ 12.  22.   2.]\n",
        " [ 13.  23.   3.]]\n"
       ]
      }
     ],
     "prompt_number": 26
    },
    {
     "cell_type": "code",
     "collapsed": false,
     "input": [],
     "language": "python",
     "metadata": {},
     "outputs": []
    }
   ],
   "metadata": {}
  }
 ]
}