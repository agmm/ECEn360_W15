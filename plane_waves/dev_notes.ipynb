{
 "metadata": {
  "name": "",
  "signature": "sha256:c00c1423e0186fe174eb90404316552687b97892b9af96f1788c929b90d9638f"
 },
 "nbformat": 3,
 "nbformat_minor": 0,
 "worksheets": [
  {
   "cells": [
    {
     "cell_type": "markdown",
     "metadata": {},
     "source": [
      "#Table of Contents\n",
      "* [Objective: propagating plane wave visualization](#Objective:-propagating-plane-wave-visualization)\n",
      "* [How to get docstrings for a class definition](#How-to-get-docstrings-for-a-class-definition)\n",
      "* [Figure out what makeARGB is doing](#Figure-out-what-makeARGB-is-doing)\n",
      "* [Make a semi-transparent rectangle (image)](#Make-a-semi-transparent-rectangle-%28image%29)\n",
      "* [What is np.vstack.transpose() doing?](#What-is-np.vstack.transpose%28%29-doing?)\n",
      "* [Make vertical lines](#Make-vertical-lines)\n"
     ]
    },
    {
     "cell_type": "code",
     "collapsed": false,
     "input": [
      "%%javascript\n",
      "IPython.load_extensions('calico-document-tools');"
     ],
     "language": "python",
     "metadata": {},
     "outputs": [
      {
       "javascript": [
        "IPython.load_extensions('calico-document-tools');"
       ],
       "metadata": {},
       "output_type": "display_data",
       "text": [
        "<IPython.core.display.Javascript at 0x1058d0a90>"
       ]
      }
     ],
     "prompt_number": 1
    },
    {
     "cell_type": "code",
     "collapsed": false,
     "input": [
      "!date"
     ],
     "language": "python",
     "metadata": {},
     "outputs": [
      {
       "output_type": "stream",
       "stream": "stdout",
       "text": [
        "Fri Feb 27 21:03:52 MST 2015\r\n"
       ]
      }
     ],
     "prompt_number": 1
    },
    {
     "cell_type": "code",
     "collapsed": false,
     "input": [
      "from pyqtgraph.Qt import QtCore, QtGui\n",
      "import pyqtgraph.opengl as gl\n",
      "import pyqtgraph as pg\n",
      "import numpy as np"
     ],
     "language": "python",
     "metadata": {},
     "outputs": [
      {
       "output_type": "stream",
       "stream": "stderr",
       "text": [
        "Vendor:  Continuum Analytics, Inc.\n",
        "Package: mkl\n",
        "Message: trial mode expires in 30 days\n"
       ]
      }
     ],
     "prompt_number": 2
    },
    {
     "cell_type": "heading",
     "level": 1,
     "metadata": {},
     "source": [
      "Objective: propagating plane wave visualization"
     ]
    },
    {
     "cell_type": "markdown",
     "metadata": {},
     "source": [
      "**To do**\n",
      "- DONE 2/27/15 - Propagating e-field\n",
      "  - TRIED 2/27/15, ARROWS DON'T SEEM TO WORK IN 3D, JUST 2D. include some propagating arrows\n",
      "- DONE 2/27/15 - propagating h-field\n",
      "- TRIED 2/27/15, DOESN'T LOOK GOOD. semi-transparent plane in x-y through which plane wave propagates\n",
      "- DONE 2/27/15 - Add more visible axes\n",
      "- DONE 2/27/15 - What is np.vstack doing?\n",
      "- TRIED 2/25/15 - NO FACILITY TO DO THIS. Fill to zero?\n",
      "- If not, make my own vertical lines to zero?\n",
      "- Add labels (E, H, z)"
     ]
    },
    {
     "cell_type": "heading",
     "level": 1,
     "metadata": {},
     "source": [
      "How to get docstrings for a class definition"
     ]
    },
    {
     "cell_type": "code",
     "collapsed": false,
     "input": [
      "help(pg.opengl.GLLinePlotItem)"
     ],
     "language": "python",
     "metadata": {},
     "outputs": [
      {
       "output_type": "stream",
       "stream": "stdout",
       "text": [
        "Help on class GLLinePlotItem in module pyqtgraph.opengl.items.GLLinePlotItem:\n",
        "\n",
        "class GLLinePlotItem(pyqtgraph.opengl.GLGraphicsItem.GLGraphicsItem)\n",
        " |  Draws line plots in 3D.\n",
        " |  \n",
        " |  Method resolution order:\n",
        " |      GLLinePlotItem\n",
        " |      pyqtgraph.opengl.GLGraphicsItem.GLGraphicsItem\n",
        " |      PyQt4.QtCore.QObject\n",
        " |      sip.wrapper\n",
        " |      sip.simplewrapper\n",
        " |      __builtin__.object\n",
        " |  \n",
        " |  Methods defined here:\n",
        " |  \n",
        " |  __init__(self, **kwds)\n",
        " |      All keyword arguments are passed to setData()\n",
        " |  \n",
        " |  initializeGL(self)\n",
        " |  \n",
        " |  paint(self)\n",
        " |  \n",
        " |  setData(self, **kwds)\n",
        " |      Update the data displayed by this item. All arguments are optional; \n",
        " |      for example it is allowed to update vertex positions while leaving \n",
        " |      colors unchanged, etc.\n",
        " |      \n",
        " |      ====================  ==================================================\n",
        " |      **Arguments:**\n",
        " |      ------------------------------------------------------------------------\n",
        " |      pos                   (N,3) array of floats specifying point locations.\n",
        " |      color                 (N,4) array of floats (0.0-1.0) or\n",
        " |                            tuple of floats specifying\n",
        " |                            a single color for the entire item.\n",
        " |      width                 float specifying line width\n",
        " |      antialias             enables smooth line drawing\n",
        " |      mode                  'lines': Each pair of vertexes draws a single line\n",
        " |                                     segment.\n",
        " |                            'line_strip': All vertexes are drawn as a\n",
        " |                                          continuous set of line segments.\n",
        " |      ====================  ==================================================\n",
        " |  \n",
        " |  ----------------------------------------------------------------------\n",
        " |  Methods inherited from pyqtgraph.opengl.GLGraphicsItem.GLGraphicsItem:\n",
        " |  \n",
        " |  applyTransform(self, tr, local)\n",
        " |      Multiply this object's transform by *tr*. \n",
        " |      If local is True, then *tr* is multiplied on the right of the current transform::\n",
        " |      \n",
        " |          newTransform = transform * tr\n",
        " |          \n",
        " |      If local is False, then *tr* is instead multiplied on the left::\n",
        " |      \n",
        " |          newTransform = tr * transform\n",
        " |  \n",
        " |  childItems(self)\n",
        " |      Return a list of this item's children in the scenegraph hierarchy.\n",
        " |  \n",
        " |  depthValue(self)\n",
        " |      Return the depth value of this item. See setDepthValue for more information.\n",
        " |  \n",
        " |  hide(self)\n",
        " |      Hide this item. \n",
        " |      This is equivalent to setVisible(False).\n",
        " |  \n",
        " |  mapFromParent(self, point)\n",
        " |  \n",
        " |  mapFromView(self, point)\n",
        " |  \n",
        " |  mapToParent(self, point)\n",
        " |  \n",
        " |  mapToView(self, point)\n",
        " |  \n",
        " |  parentItem(self)\n",
        " |      Return a this item's parent in the scenegraph hierarchy.\n",
        " |  \n",
        " |  resetTransform(self)\n",
        " |      Reset this item's transform to an identity transformation.\n",
        " |  \n",
        " |  rotate(self, angle, x, y, z, local=False)\n",
        " |      Rotate the object around the axis specified by (x,y,z).\n",
        " |      *angle* is in degrees.\n",
        " |  \n",
        " |  scale(self, x, y, z, local=True)\n",
        " |      Scale the object by (*dx*, *dy*, *dz*) in its local coordinate system.\n",
        " |      If *local* is False, then scale takes place in the parent's coordinates.\n",
        " |  \n",
        " |  setDepthValue(self, value)\n",
        " |      Sets the depth value of this item. Default is 0.\n",
        " |      This controls the order in which items are drawn--those with a greater depth value will be drawn later.\n",
        " |      Items with negative depth values are drawn before their parent.\n",
        " |      (This is analogous to QGraphicsItem.zValue)\n",
        " |      The depthValue does NOT affect the position of the item or the values it imparts to the GL depth buffer.\n",
        " |  \n",
        " |  setGLOptions(self, opts)\n",
        " |      Set the OpenGL state options to use immediately before drawing this item.\n",
        " |      (Note that subclasses must call setupGLState before painting for this to work)\n",
        " |      \n",
        " |      The simplest way to invoke this method is to pass in the name of\n",
        " |      a predefined set of options (see the GLOptions variable):\n",
        " |      \n",
        " |      ============= ======================================================\n",
        " |      opaque        Enables depth testing and disables blending\n",
        " |      translucent   Enables depth testing and blending\n",
        " |                    Elements must be drawn sorted back-to-front for\n",
        " |                    translucency to work correctly.\n",
        " |      additive      Disables depth testing, enables blending.\n",
        " |                    Colors are added together, so sorting is not required.\n",
        " |      ============= ======================================================\n",
        " |      \n",
        " |      It is also possible to specify any arbitrary settings as a dictionary. \n",
        " |      This may consist of {'functionName': (args...)} pairs where functionName must \n",
        " |      be a callable attribute of OpenGL.GL, or {GL_STATE_VAR: bool} pairs \n",
        " |      which will be interpreted as calls to glEnable or glDisable(GL_STATE_VAR).\n",
        " |      \n",
        " |      For example::\n",
        " |          \n",
        " |          {\n",
        " |              GL_ALPHA_TEST: True,\n",
        " |              GL_CULL_FACE: False,\n",
        " |              'glBlendFunc': (GL_SRC_ALPHA, GL_ONE_MINUS_SRC_ALPHA),\n",
        " |          }\n",
        " |  \n",
        " |  setParentItem(self, item)\n",
        " |      Set this item's parent in the scenegraph hierarchy.\n",
        " |  \n",
        " |  setTransform(self, tr)\n",
        " |      Set the local transform for this object.\n",
        " |      Must be a :class:`Transform3D <pyqtgraph.Transform3D>` instance. This transform\n",
        " |      determines how the local coordinate system of the item is mapped to the coordinate\n",
        " |      system of its parent.\n",
        " |  \n",
        " |  setVisible(self, vis)\n",
        " |      Set the visibility of this item.\n",
        " |  \n",
        " |  setupGLState(self)\n",
        " |      This method is responsible for preparing the GL state options needed to render \n",
        " |      this item (blending, depth testing, etc). The method is called immediately before painting the item.\n",
        " |  \n",
        " |  show(self)\n",
        " |      Make this item visible if it was previously hidden.\n",
        " |      This is equivalent to setVisible(True).\n",
        " |  \n",
        " |  transform(self)\n",
        " |      Return this item's transform object.\n",
        " |  \n",
        " |  translate(self, dx, dy, dz, local=False)\n",
        " |      Translate the object by (*dx*, *dy*, *dz*) in its parent's coordinate system.\n",
        " |      If *local* is True, then translation takes place in local coordinates.\n",
        " |  \n",
        " |  update(self)\n",
        " |      Indicates that this item needs to be redrawn, and schedules an update \n",
        " |      with the view it is displayed in.\n",
        " |  \n",
        " |  updateGLOptions(self, opts)\n",
        " |      Modify the OpenGL state options to use immediately before drawing this item.\n",
        " |      *opts* must be a dictionary as specified by setGLOptions.\n",
        " |      Values may also be None, in which case the key will be ignored.\n",
        " |  \n",
        " |  view(self)\n",
        " |  \n",
        " |  viewTransform(self)\n",
        " |      Return the transform mapping this item's local coordinate system to the \n",
        " |      view coordinate system.\n",
        " |  \n",
        " |  visible(self)\n",
        " |      Return True if the item is currently set to be visible.\n",
        " |      Note that this does not guarantee that the item actually appears in the\n",
        " |      view, as it may be obscured or outside of the current view area.\n",
        " |  \n",
        " |  ----------------------------------------------------------------------\n",
        " |  Methods inherited from PyQt4.QtCore.QObject:\n",
        " |  \n",
        " |  __getattr__(...)\n",
        " |      QObject.__getattr__(str) -> object\n",
        " |  \n",
        " |  blockSignals(...)\n",
        " |      QObject.blockSignals(bool) -> bool\n",
        " |  \n",
        " |  childEvent(...)\n",
        " |      QObject.childEvent(QChildEvent)\n",
        " |  \n",
        " |  children(...)\n",
        " |      QObject.children() -> list-of-QObject\n",
        " |  \n",
        " |  connect(...)\n",
        " |      QObject.connect(QObject, SIGNAL(), QObject, SLOT(), Qt.ConnectionType=Qt.AutoConnection) -> bool\n",
        " |      QObject.connect(QObject, SIGNAL(), callable, Qt.ConnectionType=Qt.AutoConnection) -> bool\n",
        " |      QObject.connect(QObject, SIGNAL(), SLOT(), Qt.ConnectionType=Qt.AutoConnection) -> bool\n",
        " |  \n",
        " |  connectNotify(...)\n",
        " |      QObject.connectNotify(SIGNAL())\n",
        " |  \n",
        " |  customEvent(...)\n",
        " |      QObject.customEvent(QEvent)\n",
        " |  \n",
        " |  deleteLater(...)\n",
        " |      QObject.deleteLater()\n",
        " |  \n",
        " |  destroyed = <unbound signal destroyed>\n",
        " |  disconnect(...)\n",
        " |      QObject.disconnect(QObject, SIGNAL(), QObject, SLOT()) -> bool\n",
        " |      QObject.disconnect(QObject, SIGNAL(), callable) -> bool\n",
        " |  \n",
        " |  disconnectNotify(...)\n",
        " |      QObject.disconnectNotify(SIGNAL())\n",
        " |  \n",
        " |  dumpObjectInfo(...)\n",
        " |      QObject.dumpObjectInfo()\n",
        " |  \n",
        " |  dumpObjectTree(...)\n",
        " |      QObject.dumpObjectTree()\n",
        " |  \n",
        " |  dynamicPropertyNames(...)\n",
        " |      QObject.dynamicPropertyNames() -> list-of-QByteArray\n",
        " |  \n",
        " |  emit(...)\n",
        " |      QObject.emit(SIGNAL(), ...)\n",
        " |  \n",
        " |  event(...)\n",
        " |      QObject.event(QEvent) -> bool\n",
        " |  \n",
        " |  eventFilter(...)\n",
        " |      QObject.eventFilter(QObject, QEvent) -> bool\n",
        " |  \n",
        " |  findChild(...)\n",
        " |      QObject.findChild(type, QString name=QString()) -> QObject\n",
        " |      QObject.findChild(tuple, QString name=QString()) -> QObject\n",
        " |  \n",
        " |  findChildren(...)\n",
        " |      QObject.findChildren(type, QString name=QString()) -> list-of-QObject\n",
        " |      QObject.findChildren(tuple, QString name=QString()) -> list-of-QObject\n",
        " |      QObject.findChildren(type, QRegExp) -> list-of-QObject\n",
        " |      QObject.findChildren(tuple, QRegExp) -> list-of-QObject\n",
        " |  \n",
        " |  inherits(...)\n",
        " |      QObject.inherits(str) -> bool\n",
        " |  \n",
        " |  installEventFilter(...)\n",
        " |      QObject.installEventFilter(QObject)\n",
        " |  \n",
        " |  isWidgetType(...)\n",
        " |      QObject.isWidgetType() -> bool\n",
        " |  \n",
        " |  killTimer(...)\n",
        " |      QObject.killTimer(int)\n",
        " |  \n",
        " |  metaObject(...)\n",
        " |      QObject.metaObject() -> QMetaObject\n",
        " |  \n",
        " |  moveToThread(...)\n",
        " |      QObject.moveToThread(QThread)\n",
        " |  \n",
        " |  objectName(...)\n",
        " |      QObject.objectName() -> QString\n",
        " |  \n",
        " |  parent(...)\n",
        " |      QObject.parent() -> QObject\n",
        " |  \n",
        " |  property(...)\n",
        " |      QObject.property(str) -> QVariant\n",
        " |  \n",
        " |  pyqtConfigure(...)\n",
        " |      QObject.pyqtConfigure(...)\n",
        " |      \n",
        " |      Each keyword argument is either the name of a Qt property or a Qt signal.\n",
        " |      For properties the property is set to the given value which should be of an\n",
        " |      appropriate type.\n",
        " |      For signals the signal is connected to the given value which should be a\n",
        " |      callable.\n",
        " |  \n",
        " |  receivers(...)\n",
        " |      QObject.receivers(SIGNAL()) -> int\n",
        " |  \n",
        " |  removeEventFilter(...)\n",
        " |      QObject.removeEventFilter(QObject)\n",
        " |  \n",
        " |  sender(...)\n",
        " |      QObject.sender() -> QObject\n",
        " |  \n",
        " |  senderSignalIndex(...)\n",
        " |      QObject.senderSignalIndex() -> int\n",
        " |  \n",
        " |  setObjectName(...)\n",
        " |      QObject.setObjectName(QString)\n",
        " |  \n",
        " |  setParent(...)\n",
        " |      QObject.setParent(QObject)\n",
        " |  \n",
        " |  setProperty(...)\n",
        " |      QObject.setProperty(str, QVariant) -> bool\n",
        " |  \n",
        " |  signalsBlocked(...)\n",
        " |      QObject.signalsBlocked() -> bool\n",
        " |  \n",
        " |  startTimer(...)\n",
        " |      QObject.startTimer(int) -> int\n",
        " |  \n",
        " |  thread(...)\n",
        " |      QObject.thread() -> QThread\n",
        " |  \n",
        " |  timerEvent(...)\n",
        " |      QObject.timerEvent(QTimerEvent)\n",
        " |  \n",
        " |  tr(...)\n",
        " |      QObject.tr(str, str disambiguation=None, int n=-1) -> QString\n",
        " |  \n",
        " |  trUtf8(...)\n",
        " |      QObject.trUtf8(str, str disambiguation=None, int n=-1) -> QString\n",
        " |  \n",
        " |  ----------------------------------------------------------------------\n",
        " |  Data descriptors inherited from PyQt4.QtCore.QObject:\n",
        " |  \n",
        " |  __weakref__\n",
        " |      list of weak references to the object (if defined)\n",
        " |  \n",
        " |  staticMetaObject\n",
        " |  \n",
        " |  ----------------------------------------------------------------------\n",
        " |  Data descriptors inherited from sip.simplewrapper:\n",
        " |  \n",
        " |  __dict__\n",
        " |  \n",
        " |  ----------------------------------------------------------------------\n",
        " |  Data and other attributes inherited from sip.simplewrapper:\n",
        " |  \n",
        " |  __new__ = <built-in method __new__ of sip.wrappertype object>\n",
        " |      T.__new__(S, ...) -> a new object with type S, a subtype of T\n",
        "\n"
       ]
      }
     ],
     "prompt_number": 3
    },
    {
     "cell_type": "code",
     "collapsed": false,
     "input": [
      "help(pg.opengl.GLGridItem)\n",
      "help(pg.QtGui.QGraphicsRectItem)"
     ],
     "language": "python",
     "metadata": {},
     "outputs": []
    },
    {
     "cell_type": "heading",
     "level": 1,
     "metadata": {},
     "source": [
      "Figure out what makeARGB is doing"
     ]
    },
    {
     "cell_type": "code",
     "collapsed": false,
     "input": [
      "image_shape = (4,4)\n",
      "uniform_values = np.ones(image_shape) * 255\n",
      "uniform_image = pg.makeARGB(uniform_values)\n",
      "print uniform_values\n",
      "print uniform_image"
     ],
     "language": "python",
     "metadata": {},
     "outputs": [
      {
       "output_type": "stream",
       "stream": "stdout",
       "text": [
        "[[ 255.  255.  255.  255.]\n",
        " [ 255.  255.  255.  255.]\n",
        " [ 255.  255.  255.  255.]\n",
        " [ 255.  255.  255.  255.]]\n",
        "(array([[[255, 255, 255, 255],\n",
        "        [255, 255, 255, 255],\n",
        "        [255, 255, 255, 255],\n",
        "        [255, 255, 255, 255]],\n",
        "\n",
        "       [[255, 255, 255, 255],\n",
        "        [255, 255, 255, 255],\n",
        "        [255, 255, 255, 255],\n",
        "        [255, 255, 255, 255]],\n",
        "\n",
        "       [[255, 255, 255, 255],\n",
        "        [255, 255, 255, 255],\n",
        "        [255, 255, 255, 255],\n",
        "        [255, 255, 255, 255]],\n",
        "\n",
        "       [[255, 255, 255, 255],\n",
        "        [255, 255, 255, 255],\n",
        "        [255, 255, 255, 255],\n",
        "        [255, 255, 255, 255]]], dtype=uint8), False)\n"
       ]
      }
     ],
     "prompt_number": 13
    },
    {
     "cell_type": "code",
     "collapsed": false,
     "input": [
      "from pyqtgraph.Qt import QtCore, QtGui\n",
      "import pyqtgraph.opengl as gl\n",
      "import pyqtgraph as pg\n",
      "import numpy as np\n",
      "\n",
      "app = QtGui.QApplication([])\n",
      "w = gl.GLViewWidget()\n",
      "w.opts['distance'] = 200\n",
      "w.show()\n",
      "w.setWindowTitle('pyqtgraph example: GLImageItem')\n",
      "\n",
      "## create volume data set to slice three images from\n",
      "shape = (100,100,70)\n",
      "data = np.random.normal(size=shape)\n",
      "#data += pg.gaussianFilter(np.random.normal(size=shape), (15,15,15))*15\n",
      "\n",
      "## slice out three planes, convert to RGBA for OpenGL texture\n",
      "levels = (-0.08, 0.08)\n",
      "tex1 = pg.makeRGBA(data[shape[0]/2], levels=levels)[0]       # yz plane\n",
      "tex2 = pg.makeRGBA(data[:,shape[1]/2], levels=levels)[0]     # xz plane\n",
      "tex3 = pg.makeRGBA(data[:,:,shape[2]/2], levels=levels)[0]   # xy plane\n",
      "#tex1[:,:,3] = 128\n",
      "tex2[:,:,3] = 128\n",
      "#tex3[:,:,3] = 128\n",
      "\n",
      "## Create three image items from textures, add to view\n",
      "v1 = gl.GLImageItem(tex1)\n",
      "v1.translate(-shape[1]/2, -shape[2]/2, 0)\n",
      "v1.rotate(90, 0,0,1)\n",
      "v1.rotate(-90, 0,1,0)\n",
      "#w.addItem(v1)\n",
      "v2 = gl.GLImageItem(tex1)\n",
      "v2.translate(-shape[0]/2, -shape[2]/2, 0)\n",
      "v2.rotate(-90, 1,0,0)\n",
      "w.addItem(v2)\n",
      "v3 = gl.GLImageItem(tex3)\n",
      "v3.translate(-shape[0]/2, -shape[1]/2, 0)\n",
      "#w.addItem(v3)\n",
      "\n",
      "ax = gl.GLAxisItem()\n",
      "w.addItem(ax)\n",
      "\n",
      "## Start Qt event loop unless running in interactive mode.\n",
      "if __name__ == '__main__':\n",
      "    import sys\n",
      "    if (sys.flags.interactive != 1) or not hasattr(QtCore, 'PYQT_VERSION'):\n",
      "        QtGui.QApplication.instance().exec_()\n"
     ],
     "language": "python",
     "metadata": {},
     "outputs": [
      {
       "output_type": "stream",
       "stream": "stderr",
       "text": [
        "Vendor:  Continuum Analytics, Inc.\n",
        "Package: mkl\n",
        "Message: trial mode expires in 29 days\n"
       ]
      }
     ],
     "prompt_number": 1
    },
    {
     "cell_type": "code",
     "collapsed": false,
     "input": [
      "print shape[0], shape[1], shape[2]"
     ],
     "language": "python",
     "metadata": {},
     "outputs": [
      {
       "output_type": "stream",
       "stream": "stdout",
       "text": [
        "100 100 70\n"
       ]
      }
     ],
     "prompt_number": 4
    },
    {
     "cell_type": "code",
     "collapsed": false,
     "input": [
      "print len(data[shape[0]/2]), len(data[:,shape[1]/2])"
     ],
     "language": "python",
     "metadata": {},
     "outputs": [
      {
       "output_type": "stream",
       "stream": "stdout",
       "text": [
        "100 100\n"
       ]
      }
     ],
     "prompt_number": 10
    },
    {
     "cell_type": "code",
     "collapsed": false,
     "input": [
      "shape = (5,4,3)\n",
      "data = np.random.normal(size=shape)\n",
      "print data"
     ],
     "language": "python",
     "metadata": {},
     "outputs": [
      {
       "output_type": "stream",
       "stream": "stdout",
       "text": [
        "[[[ 0.45984547  1.36035537  0.17877769]\n",
        "  [-0.74233363 -1.4027535  -0.31127744]\n",
        "  [ 0.15139385 -1.53737929 -0.44762799]\n",
        "  [-0.07928505 -0.55425195 -0.4397145 ]]\n",
        "\n",
        " [[-1.18939939  2.14264077 -0.24350655]\n",
        "  [ 1.74703657  0.02382973 -1.21494055]\n",
        "  [-1.05530072 -0.61658412  0.11202   ]\n",
        "  [-1.64019854  0.90568988  2.00091668]]\n",
        "\n",
        " [[ 0.68254619 -0.26610311 -1.7318612 ]\n",
        "  [ 0.802056   -0.65997896  1.60191216]\n",
        "  [-0.45561828  0.75331113  1.04526321]\n",
        "  [-0.26396584 -0.83466144 -0.09280454]]\n",
        "\n",
        " [[-0.52378385 -0.67985562  0.51557659]\n",
        "  [ 0.19575697  0.47967583  1.60270125]\n",
        "  [-0.83338379 -0.35544256  0.30715218]\n",
        "  [-0.70449796 -0.11221931  0.41522148]]\n",
        "\n",
        " [[ 0.0137461   0.39272416 -0.17842813]\n",
        "  [-0.04211752  2.73380214  1.19733147]\n",
        "  [-1.95301056 -1.76086652  0.62690548]\n",
        "  [ 0.81274395  0.63919669 -1.07803292]]]\n"
       ]
      }
     ],
     "prompt_number": 11
    },
    {
     "cell_type": "code",
     "collapsed": false,
     "input": [
      "print data[shape[0]/2]"
     ],
     "language": "python",
     "metadata": {},
     "outputs": [
      {
       "output_type": "stream",
       "stream": "stdout",
       "text": [
        "[[ 0.68254619 -0.26610311 -1.7318612 ]\n",
        " [ 0.802056   -0.65997896  1.60191216]\n",
        " [-0.45561828  0.75331113  1.04526321]\n",
        " [-0.26396584 -0.83466144 -0.09280454]]\n"
       ]
      }
     ],
     "prompt_number": 12
    },
    {
     "cell_type": "code",
     "collapsed": false,
     "input": [
      "print data[:,shape[1]/2]"
     ],
     "language": "python",
     "metadata": {},
     "outputs": [
      {
       "output_type": "stream",
       "stream": "stdout",
       "text": [
        "[[ 0.15139385 -1.53737929 -0.44762799]\n",
        " [-1.05530072 -0.61658412  0.11202   ]\n",
        " [-0.45561828  0.75331113  1.04526321]\n",
        " [-0.83338379 -0.35544256  0.30715218]\n",
        " [-1.95301056 -1.76086652  0.62690548]]\n"
       ]
      }
     ],
     "prompt_number": 13
    },
    {
     "cell_type": "code",
     "collapsed": false,
     "input": [
      "print data[:,:,shape[2]/2]"
     ],
     "language": "python",
     "metadata": {},
     "outputs": [
      {
       "output_type": "stream",
       "stream": "stdout",
       "text": [
        "[[ 1.36035537 -1.4027535  -1.53737929 -0.55425195]\n",
        " [ 2.14264077  0.02382973 -0.61658412  0.90568988]\n",
        " [-0.26610311 -0.65997896  0.75331113 -0.83466144]\n",
        " [-0.67985562  0.47967583 -0.35544256 -0.11221931]\n",
        " [ 0.39272416  2.73380214 -1.76086652  0.63919669]]\n"
       ]
      }
     ],
     "prompt_number": 14
    },
    {
     "cell_type": "code",
     "collapsed": false,
     "input": [
      "tex = pg.makeRGBA(data[shape[2]/2])[0]\n",
      "print tex"
     ],
     "language": "python",
     "metadata": {},
     "outputs": [
      {
       "output_type": "stream",
       "stream": "stdout",
       "text": [
        "[[[  0   0   0 255]\n",
        "  [  2   2   2 255]\n",
        "  [  0   0   0 255]]\n",
        "\n",
        " [[  1   1   1 255]\n",
        "  [  0   0   0 255]\n",
        "  [  0   0   0 255]]\n",
        "\n",
        " [[  0   0   0 255]\n",
        "  [  0   0   0 255]\n",
        "  [  0   0   0 255]]\n",
        "\n",
        " [[  0   0   0 255]\n",
        "  [  0   0   0 255]\n",
        "  [  2   2   2 255]]]\n"
       ]
      }
     ],
     "prompt_number": 20
    },
    {
     "cell_type": "code",
     "collapsed": false,
     "input": [
      "image_shape = (3,5)\n",
      "uniform_values = np.ones(image_shape) * 255\n",
      "uniform_image = pg.makeARGB(uniform_values)[0]\n",
      "uniform_image[:,:,3] = 128\n",
      "print uniform_image"
     ],
     "language": "python",
     "metadata": {},
     "outputs": [
      {
       "output_type": "stream",
       "stream": "stdout",
       "text": [
        "[[[255 255 255 128]\n",
        "  [255 255 255 128]\n",
        "  [255 255 255 128]\n",
        "  [255 255 255 128]\n",
        "  [255 255 255 128]]\n",
        "\n",
        " [[255 255 255 128]\n",
        "  [255 255 255 128]\n",
        "  [255 255 255 128]\n",
        "  [255 255 255 128]\n",
        "  [255 255 255 128]]\n",
        "\n",
        " [[255 255 255 128]\n",
        "  [255 255 255 128]\n",
        "  [255 255 255 128]\n",
        "  [255 255 255 128]\n",
        "  [255 255 255 128]]]\n"
       ]
      }
     ],
     "prompt_number": 4
    },
    {
     "cell_type": "heading",
     "level": 1,
     "metadata": {},
     "source": [
      "Make a semi-transparent rectangle (image)"
     ]
    },
    {
     "cell_type": "code",
     "collapsed": false,
     "input": [
      "from pyqtgraph.Qt import QtCore, QtGui\n",
      "import pyqtgraph.opengl as gl\n",
      "import pyqtgraph as pg\n",
      "import numpy as np\n",
      "\n",
      "app = QtGui.QApplication([])\n",
      "w = gl.GLViewWidget()\n",
      "w.opts['distance'] = 20\n",
      "w.show()\n",
      "w.setWindowTitle('pyqtgraph example: GLImageItem')\n",
      "\n",
      "## create volume data set to slice three images from\n",
      "shape = (100,100,70)\n",
      "data = np.random.normal(size=shape)\n",
      "#data += pg.gaussianFilter(np.random.normal(size=shape), (15,15,15))*15\n",
      "\n",
      "## make images\n",
      "image_shape = (6,6)\n",
      "uniform_values = np.ones(image_shape) * 255\n",
      "uniform_image = pg.makeARGB(uniform_values)[0]\n",
      "uniform_image[:,:,1] = 128\n",
      "uniform_image_transparent = pg.makeARGB(uniform_values)[0]\n",
      "uniform_image_transparent[:,:,3] = 128\n",
      "\n",
      "## Create image items from textures, add to view\n",
      "v2 = gl.GLImageItem(uniform_image)\n",
      "v2.translate(-image_shape[0]/2, -image_shape[1]/2, 0)\n",
      "v2.rotate(90, 1,0,0)\n",
      "v2.translate(0, -2, 0)\n",
      "w.addItem(v2)\n",
      "v1 = gl.GLImageItem(uniform_image_transparent)\n",
      "v1.translate(-image_shape[0]/2, -image_shape[1]/2, 0)\n",
      "v1.rotate(90, 1,0,0)\n",
      "w.addItem(v1)\n",
      "\n",
      "ax = gl.GLAxisItem()\n",
      "w.addItem(ax)\n",
      "\n",
      "## Start Qt event loop unless running in interactive mode.\n",
      "if __name__ == '__main__':\n",
      "    import sys\n",
      "    if (sys.flags.interactive != 1) or not hasattr(QtCore, 'PYQT_VERSION'):\n",
      "        QtGui.QApplication.instance().exec_()\n"
     ],
     "language": "python",
     "metadata": {},
     "outputs": [
      {
       "output_type": "stream",
       "stream": "stderr",
       "text": [
        "Vendor:  Continuum Analytics, Inc.\n",
        "Package: mkl\n",
        "Message: trial mode expires in 30 days\n"
       ]
      }
     ],
     "prompt_number": 1
    },
    {
     "cell_type": "heading",
     "level": 1,
     "metadata": {},
     "source": [
      "What is np.vstack.transpose() doing?"
     ]
    },
    {
     "cell_type": "code",
     "collapsed": false,
     "input": [
      "x = np.linspace(0,2,3)\n",
      "y = np.linspace(10,12,3)\n",
      "z = np.linspace(20,22,3)\n",
      "print x, '\\n', y, '\\n', z, '\\n'\n",
      "pts = np.vstack([x,y,z])\n",
      "print pts, '\\n'\n",
      "pts = pts.transpose()\n",
      "print pts"
     ],
     "language": "python",
     "metadata": {},
     "outputs": [
      {
       "output_type": "stream",
       "stream": "stdout",
       "text": [
        "[ 0.  1.  2.] \n",
        "[ 10.  11.  12.] \n",
        "[ 20.  21.  22.] \n",
        "\n",
        "[[  0.   1.   2.]\n",
        " [ 10.  11.  12.]\n",
        " [ 20.  21.  22.]] \n",
        "\n",
        "[[  0.  10.  20.]\n",
        " [  1.  11.  21.]\n",
        " [  2.  12.  22.]]\n"
       ]
      }
     ],
     "prompt_number": 6
    },
    {
     "cell_type": "markdown",
     "metadata": {},
     "source": [
      "**Answer**: take row vectors x, y, & z and concatenate them as column vectors in a 2D matrix "
     ]
    },
    {
     "cell_type": "heading",
     "level": 1,
     "metadata": {},
     "source": [
      "Make vertical lines"
     ]
    },
    {
     "cell_type": "code",
     "collapsed": false,
     "input": [
      "x = np.linspace(0,3,4)\n",
      "y = np.linspace(10,13,4)\n",
      "z = np.linspace(20,23,4)\n",
      "#print x, '\\n', y, '\\n', z, '\\n'\n",
      "pts = np.vstack([x,y,z])\n",
      "#print pts, '\\n'\n",
      "pts = pts.transpose()\n",
      "print pts\n",
      "print pts.shape"
     ],
     "language": "python",
     "metadata": {},
     "outputs": [
      {
       "output_type": "stream",
       "stream": "stdout",
       "text": [
        "[[  0.  10.  20.]\n",
        " [  1.  11.  21.]\n",
        " [  2.  12.  22.]\n",
        " [  3.  13.  23.]]\n",
        "(4, 3)\n"
       ]
      }
     ],
     "prompt_number": 8
    },
    {
     "cell_type": "code",
     "collapsed": false,
     "input": [
      "pts2 = np.zeros(shape=(2*pts.shape[0], pts.shape[1]))\n",
      "print pts2\n",
      "print pts2.shape\n",
      "for i in range(pts.shape[0]):\n",
      "    pts2[2*i,2] = pts[i,2]\n",
      "    pts2[2*i + 1,:] = pts[i,:]\n",
      "print pts2"
     ],
     "language": "python",
     "metadata": {},
     "outputs": [
      {
       "output_type": "stream",
       "stream": "stdout",
       "text": [
        "[[ 0.  0.  0.]\n",
        " [ 0.  0.  0.]\n",
        " [ 0.  0.  0.]\n",
        " [ 0.  0.  0.]\n",
        " [ 0.  0.  0.]\n",
        " [ 0.  0.  0.]\n",
        " [ 0.  0.  0.]\n",
        " [ 0.  0.  0.]]\n",
        "(8, 3)\n",
        "[[  0.   0.  20.]\n",
        " [  0.  10.  20.]\n",
        " [  0.   0.  21.]\n",
        " [  1.  11.  21.]\n",
        " [  0.   0.  22.]\n",
        " [  2.  12.  22.]\n",
        " [  0.   0.  23.]\n",
        " [  3.  13.  23.]]\n"
       ]
      }
     ],
     "prompt_number": 15
    },
    {
     "cell_type": "code",
     "collapsed": false,
     "input": [
      "# Function to create new array from old\n",
      "# where new array is formatted to prepare to\n",
      "# draw lines perpendicular from z-axis to \n",
      "# curve defined by input array\n",
      "def preptomakelines(pts):\n",
      "    pts2 = np.zeros(shape=(2*pts.shape[0], pts.shape[1]))\n",
      "    for i in range(pts.shape[0]):\n",
      "        pts2[2*i,2] = pts[i,2]\n",
      "        pts2[2*i + 1,:] = pts[i,:]\n",
      "    return pts2\n",
      "\n",
      "pts2 = preptomakelines(pts)\n",
      "print pts, '\\n\\n', pts2"
     ],
     "language": "python",
     "metadata": {},
     "outputs": [
      {
       "output_type": "stream",
       "stream": "stdout",
       "text": [
        "[[  0.  10.  20.]\n",
        " [  1.  11.  21.]\n",
        " [  2.  12.  22.]\n",
        " [  3.  13.  23.]] \n",
        "\n",
        "[[  0.   0.  20.]\n",
        " [  0.  10.  20.]\n",
        " [  0.   0.  21.]\n",
        " [  1.  11.  21.]\n",
        " [  0.   0.  22.]\n",
        " [  2.  12.  22.]\n",
        " [  0.   0.  23.]\n",
        " [  3.  13.  23.]]\n"
       ]
      }
     ],
     "prompt_number": 18
    },
    {
     "cell_type": "heading",
     "level": 1,
     "metadata": {},
     "source": [
      "Simple coordinate transformation"
     ]
    },
    {
     "cell_type": "markdown",
     "metadata": {},
     "source": [
      "We want to go from calculation coordinates (x,y,z) to pyqtgraph coordinates (xx,yy,zz). For the electric field the transformation is:\n",
      "\n",
      "- x -> zz\n",
      "- y -> xx\n",
      "- z -> yy\n",
      "\n",
      "This is the same as rotate -90 degrees about the y axis, then rotate 90 degrees about the z-axis. For the magnetic field the transformation is:\n",
      "\n",
      "- x -> xx\n",
      "- y -> zz\n",
      "- z -> yy"
     ]
    },
    {
     "cell_type": "code",
     "collapsed": false,
     "input": [
      "x = np.linspace(0,3,4)\n",
      "y = np.linspace(10,13,4)\n",
      "z = np.linspace(20,23,4)\n",
      "pts = np.vstack([x,y,z])\n",
      "pts = pts.transpose()\n",
      "print pts\n",
      "temp2Darray = [[0, 0, 1],\n",
      "               [1, 0, 0],\n",
      "               [0, 1, 0]]\n",
      "rot_efield_coord = np.array(temp2Darray)\n",
      "print rot_efield_coord\n",
      "pts_efield_coord = np.dot(pts, rot_efield_coord)\n",
      "print pts_efield_coord\n",
      "temp2Darray = [[1, 0, 0],\n",
      "               [0, 0, 1],\n",
      "               [0, 1, 0]]\n",
      "rot_hfield_coord = np.array(temp2Darray)\n",
      "print rot_hfield_coord\n",
      "pts_hfield_coord = np.dot(pts, rot_hfield_coord)\n",
      "print pts_hfield_coord"
     ],
     "language": "python",
     "metadata": {},
     "outputs": [
      {
       "output_type": "stream",
       "stream": "stdout",
       "text": [
        "[[  0.  10.  20.]\n",
        " [  1.  11.  21.]\n",
        " [  2.  12.  22.]\n",
        " [  3.  13.  23.]]\n",
        "[[0 0 1]\n",
        " [1 0 0]\n",
        " [0 1 0]]\n",
        "[[ 10.  20.   0.]\n",
        " [ 11.  21.   1.]\n",
        " [ 12.  22.   2.]\n",
        " [ 13.  23.   3.]]\n",
        "[[1 0 0]\n",
        " [0 0 1]\n",
        " [0 1 0]]\n",
        "[[  0.  20.  10.]\n",
        " [  1.  21.  11.]\n",
        " [  2.  22.  12.]\n",
        " [  3.  23.  13.]]\n"
       ]
      }
     ],
     "prompt_number": 25
    },
    {
     "cell_type": "code",
     "collapsed": false,
     "input": [
      "print pts\n",
      "pts = np.dot(pts, rot_efield_coord)\n",
      "print pts"
     ],
     "language": "python",
     "metadata": {},
     "outputs": [
      {
       "output_type": "stream",
       "stream": "stdout",
       "text": [
        "[[  0.  10.  20.]\n",
        " [  1.  11.  21.]\n",
        " [  2.  12.  22.]\n",
        " [  3.  13.  23.]]\n",
        "[[ 10.  20.   0.]\n",
        " [ 11.  21.   1.]\n",
        " [ 12.  22.   2.]\n",
        " [ 13.  23.   3.]]\n"
       ]
      }
     ],
     "prompt_number": 26
    },
    {
     "cell_type": "code",
     "collapsed": false,
     "input": [],
     "language": "python",
     "metadata": {},
     "outputs": []
    }
   ],
   "metadata": {}
  }
 ]
}