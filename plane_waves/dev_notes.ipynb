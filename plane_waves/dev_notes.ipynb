{
 "metadata": {
  "name": "",
  "signature": "sha256:f85abdfd9aa1cc72d6c77338a978982cd2369f65e76dab99e41f393de4179e70"
 },
 "nbformat": 3,
 "nbformat_minor": 0,
 "worksheets": [
  {
   "cells": [
    {
     "cell_type": "code",
     "collapsed": false,
     "input": [
      "!date"
     ],
     "language": "python",
     "metadata": {},
     "outputs": [
      {
       "output_type": "stream",
       "stream": "stdout",
       "text": [
        "Fri Feb 27 21:03:52 MST 2015\r\n"
       ]
      }
     ],
     "prompt_number": 1
    },
    {
     "cell_type": "heading",
     "level": 1,
     "metadata": {},
     "source": [
      "Objective: propagating plane wave visualization"
     ]
    },
    {
     "cell_type": "markdown",
     "metadata": {},
     "source": [
      "**To do**\n",
      "- Propagating e-field\n",
      "  - include some propagating arrows\n",
      "- propagating h-field\n",
      "- semi-transparent plane in x-y through which plane wave propagates"
     ]
    },
    {
     "cell_type": "code",
     "collapsed": false,
     "input": [],
     "language": "python",
     "metadata": {},
     "outputs": []
    }
   ],
   "metadata": {}
  }
 ]
}