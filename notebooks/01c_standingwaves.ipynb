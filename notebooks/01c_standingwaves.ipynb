{
 "metadata": {
  "name": "",
  "signature": "sha256:90dd373ab1cd37a3586a7c22f62efcf43bebcc02c838eb9df20992a1dca6efe2"
 },
 "nbformat": 3,
 "nbformat_minor": 0,
 "worksheets": [
  {
   "cells": [
    {
     "cell_type": "heading",
     "level": 1,
     "metadata": {},
     "source": [
      "Sinusoidal Steady State Voltage on a Transmission Line"
     ]
    },
    {
     "cell_type": "markdown",
     "metadata": {},
     "source": [
      "The voltage on a transmission line is given by\n",
      "\n",
      "$$v(z,t) = v_0 cos(\\omega t - \\beta z) + \\left|{\\Gamma_L}\\right|v_o cos(\\omega t - \\beta z + \\phi_L)$$\n",
      "\n",
      "where $\\omega$ is the angular frequency of the sinusoidal voltage, $\\beta$ is the propagation constant, and $\\Gamma_L$ is the load reflection coefficient, which is in general complex such that $\\Gamma_L = \\left|\\Gamma_L\\right|exp(j \\phi_L)$\n",
      "\n",
      "The voltage phasor is \n",
      "\n",
      "$$ \\tilde{V}(z) = V^+_0 e^{-j\\beta z}[1 + \\Gamma(z)]$$\n",
      "\n",
      "and its magnitude is\n",
      "\n",
      "$$ \\left|\\tilde{V}(z)\\right| = V^+_0\\sqrt{1 + 2\\left|\\Gamma_L\\right|cos(2\\beta z + \\theta_L) + \\left|\\Gamma_L\\right|^2}$$"
     ]
    },
    {
     "cell_type": "code",
     "collapsed": false,
     "input": [
      "# Import needed modules\n",
      "import numpy as np\n",
      "from matplotlib import pyplot as plt\n",
      "from matplotlib import animation\n",
      "\n",
      "# Switch to a backend that supports FuncAnimation\n",
      "plt.switch_backend('tkagg')\n",
      "print plt.get_backend()"
     ],
     "language": "python",
     "metadata": {},
     "outputs": [
      {
       "output_type": "stream",
       "stream": "stdout",
       "text": [
        "TkAgg\n"
       ]
      }
     ],
     "prompt_number": 4
    },
    {
     "cell_type": "code",
     "collapsed": false,
     "input": [
      "zmin = -10\n",
      "zmax = 0\n",
      "numzpnts = 1000\n",
      "numframes = 20\n",
      "\n",
      "# Set up the figure, axis, and plot element we want to animate\n",
      "fig = plt.figure()\n",
      "ax = plt.axes(xlim=(-zmin, zmax), ylim=(-2, 2))\n",
      "line, = ax.plot([], [], 'b', lw=2)\n",
      "\n",
      "# Initialize plot\n",
      "def init():\n",
      "    line.set_data([], [])\n",
      "    return line,\n",
      "\n",
      "# Call for each animation loop\n",
      "def animate(i):\n",
      "    x = np.linspace(zmin, zmax, numzpnts)\n",
      "    y = np.sin(2 * np.pi * x) #(x - 0.01 * i))\n",
      "    line.set_data(x, y)\n",
      "    ax.text(0.5,0.5,'help')\n",
      "    return line,\n",
      "\n",
      "anim = animation.FuncAnimation(fig, animate, init_func=init,\n",
      "                               frames=numframes, interval=20, blit=True)\n",
      "\n",
      "plt.show()"
     ],
     "language": "python",
     "metadata": {},
     "outputs": [],
     "prompt_number": 7
    },
    {
     "cell_type": "code",
     "collapsed": false,
     "input": [
      "\"\"\"\n",
      "Matplotlib Animation Example\n",
      "\n",
      "author: Jake Vanderplas\n",
      "email: vanderplas@astro.washington.edu\n",
      "website: http://jakevdp.github.com\n",
      "license: BSD\n",
      "Please feel free to use and modify this, but keep the above information. Thanks!\n",
      "\"\"\"\n",
      "\n",
      "import numpy as np\n",
      "from matplotlib import pyplot as plt\n",
      "from matplotlib import animation\n",
      "\n",
      "# Switch to a backend that supports FuncAnimation\n",
      "plt.switch_backend('tkagg')\n",
      "print plt.get_backend()\n",
      "\n",
      "zmin = -10\n",
      "zmax = 0\n",
      "numzpnts = 1000\n",
      "numframes = 20\n",
      "\n",
      "# First set up the figure, the axis, and the plot element we want to animate\n",
      "fig = plt.figure()\n",
      "ax = plt.axes(xlim=(zmin, zmax), ylim=(-2, 2))\n",
      "line, = ax.plot([], [], lw=2)\n",
      "\n",
      "# initialization function: plot the background of each frame\n",
      "def init():\n",
      "    line.set_data([], [])\n",
      "    return line,\n",
      "\n",
      "# animation function.  This is called sequentially\n",
      "def animate(i):\n",
      "    x = np.linspace(zmin, zmax, numzpnts)\n",
      "    y = np.sin(2 * np.pi * (x - 0.05 * i))\n",
      "    line.set_data(x, y)\n",
      "    return line,\n",
      "\n",
      "# call the animator.  blit=True means only re-draw the parts that have changed.\n",
      "anim = animation.FuncAnimation(fig, animate, init_func=init,\n",
      "                               frames=200, interval=20, blit=True)\n",
      "\n",
      "# save the animation as an mp4.  This requires ffmpeg or mencoder to be\n",
      "# installed.  The extra_args ensure that the x264 codec is used, so that\n",
      "# the video can be embedded in html5.  You may need to adjust this for\n",
      "# your system: for more information, see\n",
      "# http://matplotlib.sourceforge.net/api/animation_api.html\n",
      "#anim.save('basic_animation.mp4', fps=30, extra_args=['-vcodec', 'libx264'])\n",
      "\n",
      "plt.show()"
     ],
     "language": "python",
     "metadata": {},
     "outputs": [
      {
       "output_type": "stream",
       "stream": "stdout",
       "text": [
        "TkAgg\n"
       ]
      }
     ],
     "prompt_number": 2
    },
    {
     "cell_type": "code",
     "collapsed": false,
     "input": [],
     "language": "python",
     "metadata": {},
     "outputs": []
    }
   ],
   "metadata": {}
  }
 ]
}